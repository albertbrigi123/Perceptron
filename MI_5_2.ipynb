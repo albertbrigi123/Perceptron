{
  "nbformat": 4,
  "nbformat_minor": 0,
  "metadata": {
    "colab": {
      "name": "MI_5_2.ipynb",
      "provenance": []
    },
    "kernelspec": {
      "name": "python3",
      "display_name": "Python 3"
    }
  },
  "cells": [
    {
      "cell_type": "code",
      "metadata": {
        "id": "Uf5p7LgOENw1",
        "colab_type": "code",
        "colab": {}
      },
      "source": [
        "from numpy import array,random,dot\n",
        "import matplotlib.pyplot as plt\n",
        "\n",
        "hardlim = lambda x: 0 if x < 0 else 1\n",
        "\n",
        "training_data = array([\n",
        "                      [1,\n",
        "                       1,0,1, #H\n",
        "                       1,1,1,\n",
        "                       1,0,1],\n",
        "                      [1,\n",
        "                       0,1,0, #I\n",
        "                       0,1,0,\n",
        "                       0,1,0]])\n",
        "\n",
        "result = array([[1,0],[0,1]])\n",
        "\n",
        "def perceptron_learning(data,result):\n",
        "  lr = .01\n",
        "  E = 1\n",
        "  N, n = data.shape\n",
        "  w1 = random.randn(n, 1)\n",
        "  w2 = random.randn(n, 1)\n",
        "  while E != 0:\n",
        "    E = 0\n",
        "    for i in range (0,N):\n",
        "      yi1 = hardlim(dot(data[i], w1))\n",
        "      yi2 = hardlim(dot(data[i], w2))\n",
        "      ei1 = result[i][0] - yi1\n",
        "      ei2 = result[i][1] - yi2\n",
        "     \n",
        "      w1 = w1 + lr * ei1 * data[i].reshape(n, 1)\n",
        "      w2 = w2 + lr * ei2 * data[i].reshape(n, 1)\n",
        "      E = E + ei1 ** 2\n",
        "      E = E + ei2 ** 2\n",
        "  #print(w1,w2)\n",
        "\n",
        "perceptron_learning(training_data, result)\n"
      ],
      "execution_count": 0,
      "outputs": []
    },
    {
      "cell_type": "code",
      "metadata": {
        "id": "m9NjguhAOc1K",
        "colab_type": "code",
        "colab": {}
      },
      "source": [
        ""
      ],
      "execution_count": 0,
      "outputs": []
    }
  ]
}